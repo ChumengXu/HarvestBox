{
 "cells": [
  {
   "cell_type": "code",
   "execution_count": 1,
   "metadata": {
    "collapsed": true
   },
   "outputs": [],
   "source": [
    "import numpy as np\n",
    "import scipy.stats as stats\n",
    "from scipy.stats import poisson, norm"
   ]
  },
  {
   "cell_type": "code",
   "execution_count": 15,
   "metadata": {
    "collapsed": true
   },
   "outputs": [],
   "source": [
    "import csv"
   ]
  },
  {
   "cell_type": "code",
   "execution_count": 19,
   "metadata": {
    "collapsed": true
   },
   "outputs": [],
   "source": [
    "def expect(X, f, lb, ub):\n",
    "    if hasattr(X, 'dist'):\n",
    "        return X.dist.expect(f, lb = lb, ub = ub, *X.args, **X.kwds)\n",
    "    else:\n",
    "        return X.expect(f, lb = lb, ub = ub)"
   ]
  },
  {
   "cell_type": "code",
   "execution_count": 20,
   "metadata": {
    "collapsed": true
   },
   "outputs": [],
   "source": [
    "from scipy.integrate import quad\n",
    "import pylab as pl\n",
    "\n",
    "class newsVendor(object):\n",
    "    def __init__(self, co, cs, X):\n",
    "        self.co = co\n",
    "        self.cs = cs\n",
    "        self.X = X # demand distribution during lead time\n",
    "        self.G = self.X.cdf\n",
    "\n",
    "    def unitsOver(self, Q):\n",
    "        return expect(self.X, lambda x: Q-x, 0, Q)\n",
    "\n",
    "    def unitsShort(self, Q):\n",
    "        return expect(self.X, lambda x: x-Q, Q, np.inf)\n",
    "\n",
    "    def Y(self,Q):\n",
    "        return self.co*self.unitsOver(Q) + self.cs*self.unitsShort(Q)\n",
    "\n",
    "    def Qstar(self):\n",
    "        return self.X.ppf(self.cs/(self.cs+self.co))\n",
    "\n",
    "    def profit(self, Q):\n",
    "        investedValue = self.co * Q\n",
    "        expectedSales = expect(self.X, lambda x: np.minimum(x,Q), 0, np.inf)\n",
    "        return (self.co + self.cs)*expectedSales - investedValue"
   ]
  },
  {
   "cell_type": "code",
   "execution_count": 12,
   "metadata": {
    "collapsed": true
   },
   "outputs": [],
   "source": [
    "price = 1.50\n",
    "cost = .87"
   ]
  },
  {
   "cell_type": "code",
   "execution_count": 14,
   "metadata": {
    "collapsed": true
   },
   "outputs": [],
   "source": [
    "#this will need to be calculated from csv\n",
    "mu = 10\n",
    "G = poisson(mu)\n",
    "p = G.pmf(np.arange(100))"
   ]
  },
  {
   "cell_type": "code",
   "execution_count": 22,
   "metadata": {},
   "outputs": [
    {
     "name": "stdout",
     "output_type": "stream",
     "text": [
      "10339.5741933\n",
      "892.522197534361\n",
      "896.9684635617612\n"
     ]
    }
   ],
   "source": [
    "# mu and sigma\n",
    "X = norm(loc = 10000., scale = 1000.)\n",
    "news = newsVendor(co = cost, cs = price, X= X)\n",
    "Q =  news.Qstar()\n",
    "\n",
    "print (Q)\n",
    "print (news.Y(Q))\n",
    "print (news.Y(10440)) # rounding inaccuracy in FP"
   ]
  },
  {
   "cell_type": "code",
   "execution_count": 23,
   "metadata": {},
   "outputs": [
    {
     "data": {
      "text/plain": [
       "<scipy.stats._continuous_distns.norm_gen at 0x180d66ef98>"
      ]
     },
     "execution_count": 23,
     "metadata": {},
     "output_type": "execute_result"
    }
   ],
   "source": [
    "norm"
   ]
  },
  {
   "cell_type": "code",
   "execution_count": null,
   "metadata": {
    "collapsed": true
   },
   "outputs": [],
   "source": []
  }
 ],
 "metadata": {
  "kernelspec": {
   "display_name": "Python 3",
   "language": "python",
   "name": "python3"
  },
  "language_info": {
   "codemirror_mode": {
    "name": "ipython",
    "version": 3
   },
   "file_extension": ".py",
   "mimetype": "text/x-python",
   "name": "python",
   "nbconvert_exporter": "python",
   "pygments_lexer": "ipython3",
   "version": "3.6.1"
  }
 },
 "nbformat": 4,
 "nbformat_minor": 2
}
